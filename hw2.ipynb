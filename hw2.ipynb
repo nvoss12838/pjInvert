{
 "cells": [
  {
   "cell_type": "markdown",
   "metadata": {},
   "source": [
    "# Assignment 2 \n",
    "\n",
    "## Inverse Theory \n",
    "\n",
    "### Problem 1\n",
    "\n",
    "#### Geometery of the Problem:"
   ]
  },
  {
   "cell_type": "code",
   "execution_count": 1,
   "metadata": {
    "collapsed": false
   },
   "outputs": [
    {
     "name": "stdout",
     "output_type": "stream",
     "text": [
      "Populating the interactive namespace from numpy and matplotlib\n"
     ]
    },
    {
     "data": {
      "text/plain": [
       "([], <a list of 0 Text yticklabel objects>)"
      ]
     },
     "execution_count": 1,
     "metadata": {},
     "output_type": "execute_result"
    },
    {
     "data": {
      "image/png": "[encoded data removed]",
      "text/plain": [
       "<matplotlib.figure.Figure at 0x104528450>"
      ]
     },
     "metadata": {},
     "output_type": "display_data"
    }
   ],
   "source": [
    "%pylab inline\n",
    "import matplotlib.pyplot as plt\n",
    "import matplotlib.patches as patches\n",
    "\n",
    "ax = plt.gca()\n",
    "ax.add_patch(patches.Rectangle((3.1, 1.1),2.0,2.0,color = 'r'))\n",
    "ax.add_patch(patches.Rectangle((5.1, 1.1),2.0,2.0,color = 'g'))\n",
    "ax.add_patch(patches.Rectangle((3.1, 3.1),2.0,2.0,color = 'k'))\n",
    "ax.add_patch(patches.Rectangle((5.1, 3.1),2.0,2.0,color = 'b'))\n",
    "plt.xlim(0,10)\n",
    "plt.ylim(0,10)\n",
    "plt.axhline(7,color = 'c')\n",
    "pts = np.array([[1.5,7.0], [2.5,7.0], [2,8]])\n",
    "p = patches.Polygon(pts, color = 'rosybrown' ,closed=True)\n",
    "ax.add_patch(p)\n",
    "pts = np.array([[7.5,7.0], [8.5,7.0], [8,8]])\n",
    "p = patches.Polygon(pts, color = 'rosybrown' ,closed=True)\n",
    "ax.add_patch(p)\n",
    "ax.arrow(2, 8, 0.5, 0.0, head_width=0.5, head_length=0.5, fc='k', ec='k')\n",
    "ax.arrow(2, 8, 0.0, 0.5, head_width=0.5, head_length=0.5, fc='k', ec='k')\n",
    "ax.arrow(8, 8, 0.5, 0.0, head_width=0.5, head_length=0.5, fc='k', ec='k')\n",
    "ax.arrow(8, 8, 0.0, 0.5, head_width=0.5, head_length=0.5, fc='k', ec='k')\n",
    "plt.rc('text', usetex=True)\n",
    "plt.rc('font', family='serif')\n",
    "plt.text(1.9,9.2,'$m_2$', size = 16)\n",
    "plt.text(7.9,9.2,'$m_1$', size = 16)\n",
    "plt.text(3.1,7.7,'$l_2$', size = 16)\n",
    "plt.text(9.1,7.7,'$l_1$', size = 16)\n",
    "plt.text(4,4,'$s_1$', size = 20, color= 'w')\n",
    "plt.text(6,4,'$s_2$', size = 20, color = 'w')\n",
    "plt.text(4,2,'$s_3$', size = 20, color = 'w')\n",
    "plt.text(6,2,'$s_4$', size = 20, color = 'w')\n",
    "plt.xticks([])\n",
    "plt.yticks([])"
   ]
  },
  {
   "cell_type": "markdown",
   "metadata": {},
   "source": [
    "$$m_j=S_i N(R_{ji})$$\n",
    "$$l_j=S_i E(R_{ji})$$\n",
    "\n",
    "First lets write the equations:\n",
    "Our data vector is: $$d = \\begin{bmatrix}\n",
    "                           l_{1} \\\\\n",
    "                           m_{1} \\\\\n",
    "                           l_{2} \\\\\n",
    "                           m_{2}\n",
    "                         \\end{bmatrix}$$\n",
    "                \n",
    "Our model vector is composed of the slip on the patches : $$m = \\begin{bmatrix}\n",
    "                                                               s_{1} \\\\\n",
    "                                                               s_{2} \\\\\n",
    "                                                               s_{3} \\\\\n",
    "                                                               s_{4}\n",
    "                                                              \\end{bmatrix}$$\n",
    "                                                            \n",
    "The matrix G, the greens functions relating model parameters (slip) to observations (data):\n",
    "$$G = \\begin{bmatrix}\n",
    "       E(R_{11}) & E(R_{12}) & E(R_{13}) & E(R_{14}) \\\\\n",
    "       N(R_{11}) & N(R_{12}) & N(R_{13}) & N(R_{14}) \\\\\n",
    "       E(R_{21}) & E(R_{22}) & E(R_{23}) & E(R_{24}) \\\\\n",
    "       N(R_{21}) & N(R_{22}) & N(R_{23}) & N(R_{24}) \\\\\n",
    "      \\end{bmatrix}$$\n",
    " \n",
    "And our final equation:\n",
    "\n",
    "$$d = Gm $$\n",
    "\n",
    "$$\\begin{bmatrix}\n",
    "          l_{1} \\\\\n",
    "          m_{1} \\\\\n",
    "          l_{2} \\\\\n",
    "          m_{2}\n",
    "          \\end{bmatrix}\n",
    "      = \n",
    "       \\begin{bmatrix}\n",
    "       E(R_{11}) & E(R_{12}) & E(R_{13}) & E(R_{14}) \\\\\n",
    "       N(R_{11}) & N(R_{12}) & N(R_{13}) & N(R_{14}) \\\\\n",
    "       E(R_{21}) & E(R_{22}) & E(R_{23}) & E(R_{24}) \\\\\n",
    "       N(R_{21}) & N(R_{22}) & N(R_{23}) & N(R_{24}) \\\\\n",
    "      \\end{bmatrix}\n",
    "      \\begin{bmatrix}\n",
    "            s_{1} \\\\\n",
    "            s_{2} \\\\\n",
    "             s_{3} \\\\\n",
    "            s_{4}\n",
    "            \\end{bmatrix}$$\n",
    "\n",
    "#### Given the problem described by the figure above:\n",
    "\n",
    "1. Write the minimum length solution\n",
    "$$m^{est}=[G^TG]^{-1}G^{T}d$$\n",
    "\n",
    "So: $$G^T =         \\begin{bmatrix}\n",
    "       E(R_{11}) & N(R_{11}) & E(R_{21}) & N(R_{21}) \\\\\n",
    "       E(R_{12}) & N(R_{12}) & E(R_{22}) & N(R_{22}) \\\\\n",
    "       E(R_{13}) & N(R_{13}) & E(R_{23}) & N(R_{23}) \\\\\n",
    "       E(R_{14}) & N(R_{14}) & E(R_{24}) & N(R_{24}) \\\\\n",
    "      \\end{bmatrix}$$\n",
    "      \n",
    "And \n",
    "\n",
    "$$ G^TG = \\begin{bmatrix}\n",
    "       E(R_{11}) & N(R_{11}) & E(R_{21}) & N(R_{21}) \\\\\n",
    "       E(R_{12}) & N(R_{12}) & E(R_{22}) & N(R_{22}) \\\\\n",
    "       E(R_{13}) & N(R_{13}) & E(R_{23}) & N(R_{23}) \\\\\n",
    "       E(R_{14}) & N(R_{14}) & E(R_{24}) & N(R_{24}) \\\\\n",
    "      \\end{bmatrix}\n",
    "      \\begin{bmatrix}\n",
    "       E(R_{11}) & E(R_{12}) & E(R_{13}) & E(R_{14}) \\\\\n",
    "       N(R_{11}) & N(R_{12}) & N(R_{13}) & N(R_{14}) \\\\\n",
    "       E(R_{21}) & E(R_{22}) & E(R_{23}) & E(R_{24}) \\\\\n",
    "       N(R_{21}) & N(R_{22}) & N(R_{23}) & N(R_{24}) \\\\\n",
    "      \\end{bmatrix}$$\n",
    "  \n",
    "\n",
    "So:\n",
    "\n",
    "$$[G^TG]^{-1}G^{T}d =\n",
    "\\left[\\begin{bmatrix}\n",
    "       E(R_{11}) & N(R_{11}) & E(R_{21}) & N(R_{21}) \\\\\n",
    "       E(R_{12}) & N(R_{12}) & E(R_{22}) & N(R_{22}) \\\\\n",
    "       E(R_{13}) & N(R_{13}) & E(R_{23}) & N(R_{23}) \\\\\n",
    "       E(R_{14}) & N(R_{14}) & E(R_{24}) & N(R_{24}) \\\\\n",
    "      \\end{bmatrix}\n",
    "      \\begin{bmatrix}\n",
    "       E(R_{11}) & E(R_{12}) & E(R_{13}) & E(R_{14}) \\\\\n",
    "       N(R_{11}) & N(R_{12}) & N(R_{13}) & N(R_{14}) \\\\\n",
    "       E(R_{21}) & E(R_{22}) & E(R_{23}) & E(R_{24}) \\\\\n",
    "       N(R_{21}) & N(R_{22}) & N(R_{23}) & N(R_{24}) \\\\\n",
    "      \\end{bmatrix}\\right]^{-1} \\\\\n",
    "      \\begin{bmatrix}\n",
    "       E(R_{11}) & N(R_{11}) & E(R_{21}) & N(R_{21}) \\\\\n",
    "       E(R_{12}) & N(R_{12}) & E(R_{22}) & N(R_{22}) \\\\\n",
    "       E(R_{13}) & N(R_{13}) & E(R_{23}) & N(R_{23}) \\\\\n",
    "       E(R_{14}) & N(R_{14}) & E(R_{24}) & N(R_{24}) \\\\\n",
    "      \\end{bmatrix}\n",
    "       \\begin{bmatrix}\n",
    "                           l_{1} \\\\\n",
    "                           m_{1} \\\\\n",
    "                           l_{2} \\\\\n",
    "                           m_{2}\n",
    "                         \\end{bmatrix}$$\n",
    "      \n",
    "     \n",
    "2. Write the expression for the damped least squares solution\n",
    "\n",
    "$$ m^{est}=[G^TG + \\varepsilon^2I]^{-1}G^{T}d$$\n",
    "\n",
    "So the only difference here is the addition of the term $\\varepsilon^2I$ where $\\varepsilon$ is the weighting factor\n",
    "\n",
    "Where $I$ is the identity matrix with the same shape as $G$ and $\\varepsilon^2$ is a column vector\n",
    "\n",
    "$$[G^TG+ \\varepsilon^2I]^{-1}G^{T}d =\n",
    "\\left[\\begin{bmatrix}\n",
    "       E(R_{11}) & N(R_{11}) & E(R_{21}) & N(R_{21}) \\\\\n",
    "       E(R_{12}) & N(R_{12}) & E(R_{22}) & N(R_{22}) \\\\\n",
    "       E(R_{13}) & N(R_{13}) & E(R_{23}) & N(R_{23}) \\\\\n",
    "       E(R_{14}) & N(R_{14}) & E(R_{24}) & N(R_{24}) \\\\\n",
    "      \\end{bmatrix}\n",
    "      \\begin{bmatrix}\n",
    "       E(R_{11}) & E(R_{12}) & E(R_{13}) & E(R_{14}) \\\\\n",
    "       N(R_{11}) & N(R_{12}) & N(R_{13}) & N(R_{14}) \\\\\n",
    "       E(R_{21}) & E(R_{22}) & E(R_{23}) & E(R_{24}) \\\\\n",
    "       N(R_{21}) & N(R_{22}) & N(R_{23}) & N(R_{24}) \\\\\n",
    "      \\end{bmatrix}\n",
    "      + \\varepsilon^2\n",
    "       \\begin{bmatrix}\n",
    "       1 &0 & 0 & 0 \\\\\n",
    "       0 & 1 & 0 & 0 \\\\\n",
    "       0 & 0 & 1& 0 \\\\\n",
    "       0 & 0 & 0 & 1 \\\\\n",
    "      \\end{bmatrix}\n",
    "      \\right]^{-1} \n",
    "      \\begin{bmatrix}\n",
    "       E(R_{11}) & N(R_{11}) & E(R_{21}) & N(R_{21}) \\\\\n",
    "       E(R_{12}) & N(R_{12}) & E(R_{22}) & N(R_{22}) \\\\\n",
    "       E(R_{13}) & N(R_{13}) & E(R_{23}) & N(R_{23}) \\\\\n",
    "       E(R_{14}) & N(R_{14}) & E(R_{24}) & N(R_{24}) \\\\\n",
    "      \\end{bmatrix}\n",
    "       \\begin{bmatrix}\n",
    "                           l_{1} \\\\\n",
    "                           m_{1} \\\\\n",
    "                           l_{2} \\\\\n",
    "                           m_{2}\n",
    "                         \\end{bmatrix}$$\n",
    "\n",
    "\n",
    "\n",
    "3. Write the matrix $D$ for the flat solution\n",
    "\n",
    "The flat solution is a little tricky because of the orientation of the patches. We will assume flatness along adjacent patches and also along diagonals, and we will assume square patches with side length 1:\n",
    " \n",
    " $$D = \n",
    "\\begin{bmatrix}\n",
    "       \\frac{-1}{\\Delta x} & \\frac{1}{\\Delta x} & 0 & 0\\\\\n",
    "       0& \\frac{-1}{\\Delta y} & 0 & \\frac{1}{\\Delta y} \\\\\n",
    "       0 & 0 & \\frac{-1}{\\Delta x} & \\frac{1}{\\Delta x} \\\\\n",
    "       \\frac{-1}{\\Delta y} & 0 & \\frac{1}{\\Delta y} & 0 \\\\\n",
    "       \\frac{-1}{\\sqrt{\\Delta X^2 + \\Delta Y^2}} & 0 & 0 & \\frac{1}{\\sqrt{\\Delta X^2 + \\Delta Y^2}} \\\\\n",
    "       0 & \\frac{-1}{\\sqrt{\\Delta X^2 + \\Delta Y^2}} & \\frac{1}{\\sqrt{\\Delta X^2 + \\Delta Y^2}} & 0 \n",
    "      \\end{bmatrix}\n",
    "      $$\n",
    "         \n",
    "\n",
    "4. Write the expression for the weighted damped least squares with the a priori assumption of flatness \n",
    "\n",
    "$$ m^{est}=[G^TW_eG + \\varepsilon^2W_m]^{-1}[G^{T}W_ed +\\varepsilon^2W_m\\langle m \\rangle]$$\n",
    "\n",
    "Where $$W_m = D^TD = \n",
    "\\begin{bmatrix}\n",
    "       \\frac{-1}{\\Delta x} & 0 & 0 & \\frac{-1}{\\Delta y}  & \\frac{-1}{\\sqrt{\\Delta X^2 + \\Delta Y^2}} & 0 \\\\\n",
    "       \\frac{1}{\\Delta x} & \\frac{-1}{\\Delta y} & 0 & 0 & 0 & \\frac{-1}{\\sqrt{\\Delta X^2 + \\Delta Y^2}}\\\\\n",
    "       0 & 0 & \\frac{-1}{\\Delta x} & \\frac{1}{\\Delta y} & 0 & \\frac{1}{\\sqrt{\\Delta X^2 + \\Delta Y^2}}  \\\\\n",
    "       0  & \\frac{1}{\\Delta y}& \\frac{1}{\\Delta x} & 0 & \\frac{1}{\\sqrt{\\Delta X^2 + \\Delta Y^2}} & 0 \n",
    "      \\end{bmatrix}\n",
    "\\begin{bmatrix}\n",
    "       \\frac{-1}{\\Delta x} & \\frac{1}{\\Delta x} & 0 & 0\\\\\n",
    "       0 & \\frac{-1}{\\Delta y} & 0 & \\frac{1}{\\Delta y} \\\\\n",
    "       0 & 0 & \\frac{-1}{\\Delta x} & \\frac{1}{\\Delta x} \\\\\n",
    "       \\frac{-1}{\\Delta y} & 0 & \\frac{1}{\\Delta y} & 0 \\\\\n",
    "       \\frac{-1}{\\sqrt{\\Delta X^2 + \\Delta Y^2}} & 0 & 0 & \\frac{1}{\\sqrt{\\Delta X^2 + \\Delta Y^2}} \\\\\n",
    "       0 & \\frac{-1}{\\sqrt{\\Delta X^2 + \\Delta Y^2}} & \\frac{1}{\\sqrt{\\Delta X^2 + \\Delta Y^2}} & 0 \n",
    "      \\end{bmatrix}\n",
    "       $$\n",
    "       \n",
    "And $\\langle m \\rangle$ is the a priori choice of model paramaters, and $W_e$ is the weight matrix which could be the Identity matrix if we assume all observations have the same uncertianty which is probably reasonable if we are only using horizontal components. A more complicated $W_e$ is just multiplying by a factor for that observations for example if we make the assumption that we are more uncertain in the north component of GPS:\n",
    "$$W_e = \\begin{bmatrix}\n",
    "       1 & 0 & 0 & 0\\\\\n",
    "       0 & 0.5 & 0 & 0 \\\\\n",
    "       0 & 0 & 1 & 0 \\\\\n",
    "       0 & 0 & 0 & 0.5 \\\\\n",
    "      \\end{bmatrix}$$"
   ]
  },
  {
   "cell_type": "markdown",
   "metadata": {},
   "source": [
    "### Problem 2 \n",
    "\n",
    "#### Geometery of problem"
   ]
  },
  {
   "cell_type": "code",
   "execution_count": 2,
   "metadata": {
    "collapsed": false
   },
   "outputs": [
    {
     "data": {
      "text/plain": [
       "([], <a list of 0 Text yticklabel objects>)"
      ]
     },
     "execution_count": 2,
     "metadata": {},
     "output_type": "execute_result"
    },
    {
     "data": {
      "image/png": "[encoded data removed]",
      "text/plain": [
       "<matplotlib.figure.Figure at 0x104517a90>"
      ]
     },
     "metadata": {},
     "output_type": "display_data"
    }
   ],
   "source": [
    "import numpy as NP \n",
    "ax = plt.subplot(111)\n",
    "ax.add_patch(patches.Rectangle((3.1, 1.1),2.0,2.0,color = 'r'))\n",
    "ax.add_patch(patches.Rectangle((5.1, 1.1),2.0,2.0,color = 'g'))\n",
    "ax.add_patch(patches.Rectangle((3.1, 3.1),2.0,2.0,color = 'k'))\n",
    "ax.add_patch(patches.Rectangle((5.1, 3.1),2.0,2.0,color = 'b'))\n",
    "plt.xlim(0,10)\n",
    "plt.ylim(0,10)\n",
    "plt.axhline(7,color = 'c')\n",
    "pts = np.array([[1.5,7.0], [2.5,7.0], [2,8]])\n",
    "p = patches.Polygon(pts, color = 'rosybrown' ,closed=True)\n",
    "ax.add_patch(p)\n",
    "pts = np.array([[7.5,7.0], [8.5,7.0], [8,8]])\n",
    "p = patches.Polygon(pts, color = 'rosybrown' ,closed=True)\n",
    "ax.add_patch(p)\n",
    "ax.arrow(2, 7, 0.0, -0.5, head_width=0.4, head_length=0.6, fc='k', ec='k')\n",
    "ax.arrow(8, 7, 0.0, -0.5, head_width=0.4, head_length=0.6, fc='k', ec='k')\n",
    "ax.arrow(5.1, 3, 0.0, 5.0, head_width=0.4, head_length=0.6, fc='purple', ec='purple')\n",
    "ax.arrow(5.1, 3, 3.0, 0.0, head_width=0.6, head_length=0.4, fc='purple', ec='purple')\n",
    "plt.rc('text', usetex=True)\n",
    "plt.rc('font', family='serif')\n",
    "plt.text(1.9,5.2,'$g_2$', size = 16)\n",
    "plt.text(7.9,5.2,'$g_1$', size = 16)\n",
    "plt.text(4,4,'$p_1$', size = 20, color= 'w')\n",
    "plt.text(6,4,'$p_2$', size = 20, color = 'w')\n",
    "plt.text(4,2,'$p_3$', size = 20, color = 'w')\n",
    "plt.text(6,2,'$p_4$', size = 20, color = 'w')\n",
    "plt.text(8.7,2.7,'$x$', size = 20, color = 'k')\n",
    "plt.text(5.0,9.1,'$y$', size = 20, color = 'k')\n",
    "plt.text(6.0,0.1,'$\\Delta X$', size = 12, color = 'k')\n",
    "plt.text(7.6,2.0,'$\\Delta Y$', size = 12, color = 'k')\n",
    "def range_brace(x_min, x_max, mid=0.75, \n",
    "                beta1=50.0, beta2=100.0, height=1, \n",
    "                initial_divisions=11, resolution_factor=1.5):\n",
    "    # determine x0 adaptively values using second derivitive\n",
    "    # could be replaced with less snazzy:\n",
    "    #   x0 = NP.arange(0, 0.5, .001)\n",
    "    x0 = NP.array(())\n",
    "    tmpx = NP.linspace(0, 0.5, initial_divisions)\n",
    "    tmp = beta1**2 * (NP.exp(beta1*tmpx)) * (1-NP.exp(beta1*tmpx)) / NP.power((1+NP.exp(beta1*tmpx)),3)\n",
    "    tmp += beta2**2 * (NP.exp(beta2*(tmpx-0.5))) * (1-NP.exp(beta2*(tmpx-0.5))) / NP.power((1+NP.exp(beta2*(tmpx-0.5))),3)\n",
    "    for i in range(0, len(tmpx)-1):\n",
    "        t = int(NP.ceil(resolution_factor*max(NP.abs(tmp[i:i+2]))/float(initial_divisions)))\n",
    "        x0 = NP.append(x0, NP.linspace(tmpx[i],tmpx[i+1],t))\n",
    "    x0 = NP.sort(NP.unique(x0)) # sort and remove dups\n",
    "    # half brace using sum of two logistic functions\n",
    "    y0 = mid*2*((1/(1.+NP.exp(-1*beta1*x0)))-0.5)\n",
    "    y0 += (1-mid)*2*(1/(1.+NP.exp(-1*beta2*(x0-0.5))))\n",
    "    # concat and scale x\n",
    "    x = NP.concatenate((x0, 1-x0[::-1])) * float((x_max-x_min)) + x_min\n",
    "    y = NP.concatenate((y0, y0[::-1])) * float(height)\n",
    "    return (x,y)\n",
    "\n",
    "x,y = range_brace(5.2, 7.2, mid = -0.2,beta1= 90.0, beta2=-120.0, height = 0.4)\n",
    "ax.plot(x, y,'-')\n",
    "y,x = range_brace(5.2, 7.2, mid = 0.2,beta1= 90.0, beta2=120.0, height = 0.4)\n",
    "ax.plot(x+7.2,y-4,'-')\n",
    "plt.xticks([])\n",
    "plt.yticks([])"
   ]
  },
  {
   "cell_type": "markdown",
   "metadata": {},
   "source": [
    "#### If the center of the patch $j$ is $(\\xi_j,\\eta_j)$ and the position of the gravimeters is $(X_1,Y_1),(X_2,Y_2)$"
   ]
  },
  {
   "cell_type": "markdown",
   "metadata": {},
   "source": [
    "#### $\\Delta X = \\Delta Y = 5 m$"
   ]
  },
  {
   "cell_type": "markdown",
   "metadata": {},
   "source": [
    "#### The positons of the instruments are:\n",
    "$X_1 = -1000$\n",
    "$Y_1 = 1000$\n",
    "$X_2 = 700$\n",
    "$Y_2 = 1000$\n"
   ]
  },
  {
   "cell_type": "markdown",
   "metadata": {},
   "source": [
    "#### The gravitational acceleration at $g_1$ from $p_1$:\n",
    "\n",
    "$$g_1 = \\frac{G\\rho_1\\Delta X \\Delta Y (Y_1 - \\eta_j)}{((X_1-\\xi_j)^2+ (Y_1 - \\eta_j)^2)^\\frac{3}{2}}$$\n",
    "\n"
   ]
  },
  {
   "cell_type": "markdown",
   "metadata": {},
   "source": [
    "#### 1. Write the matrix $G$ for the general case (keep $x_i,y_i$ and $\\xi_j,\\eta_j$ in the equation)\n",
    "\n",
    "First lets write $d$: $d=\\begin{bmatrix}\n",
    "                           g_{1} \\\\\n",
    "                           g_{2} \\\\\n",
    "                       \\end{bmatrix}$\n",
    "             \n",
    "And $m$: $m =\\begin{bmatrix}\n",
    "                           \\rho_{1} \\\\\n",
    "                           \\rho_{2} \\\\\n",
    "                           \\rho_{3} \\\\\n",
    "                           \\rho_{4}\n",
    "                         \\end{bmatrix}$\n",
    "First lets write our data model relationship more manageably as :\n",
    "\n",
    "$$g_i = \\rho_j G(\\Delta X_j, \\Delta Y_j , Y_{ij}, X_{ij},\\xi_j,\\eta_j)$$\n",
    "\n",
    "for gravimeter i and patch j. \n",
    "\n",
    "                      \n",
    "$$G = \\begin{bmatrix}\n",
    "       G(\\Delta X_1, \\Delta Y_1 , Y_{11}, X_{11}) &   G(\\Delta X_2, \\Delta Y_2 , Y_{12}, X_{12}) & G(\\Delta X_3, \\Delta Y_3 , Y_{13}, X_{13}) & G(\\Delta X_4, \\Delta Y_4 , Y_{14}, X_{14}) \\\\\n",
    "       G(\\Delta X_1, \\Delta Y_1 , Y_{21}, X_{21}) &   G(\\Delta X_2, \\Delta Y_2 , Y_{22}, X_{22}) & G(\\Delta X_3, \\Delta Y_3 ,Y_{23}, X_{23}) & G(\\Delta X_4, \\Delta Y_4 , Y_{24}, X_{24}) \\\\\n",
    "      \\end{bmatrix}$$\n",
    "\n",
    "$G = \\begin{bmatrix}\n",
    "       \\frac{G\\rho_1\\Delta X_1 \\Delta Y_1 (Y_1 - \\eta_1)}{((X_1-\\xi_1)^2+ (Y_1 - \\eta_1)^2)^\\frac{3}{2}} & \\frac{G\\rho_2\\Delta X_2 \\Delta Y_2 (Y_1 - \\eta_2)}{((X_1-\\xi_2)^2+ (Y_1 - \\eta_2)^2)^\\frac{3}{2}} & \\frac{G\\rho_3\\Delta X_3 \\Delta Y_3 (Y_1 - \\eta_3)}{((X_1-\\xi_3)^2+ (Y_1 - \\eta_3)^2)^\\frac{3}{2}}  & \\frac{G\\rho_4\\Delta X_4 \\Delta Y_4 (Y_1 - \\eta_4)}{((X_1-\\xi_4)^2+ (Y_1 - \\eta_4)^2)^\\frac{3}{2}} ) \\\\\n",
    "       \\frac{G\\rho_2\\Delta X_2 \\Delta Y_2 (Y_2 - \\eta_1)}{((X_2-\\xi_1)^2+ (Y_2 - \\eta_1)^2)^\\frac{3}{2}} & \\frac{G\\rho_2\\Delta X_2 \\Delta Y_2 (Y_2 - \\eta_2)}{((X_2-\\xi_2)^2+ (Y_2 - \\eta_2)^2)^\\frac{3}{2}} & \\frac{G\\rho_2\\Delta X_3 \\Delta Y_3 (Y_2 - \\eta_3)}{((X_2-\\xi_3)^2+ (Y_2 - \\eta_3)^2)^\\frac{3}{2}}  & \\frac{G\\rho_2\\Delta X_4 \\Delta Y_4 (Y_2 - \\eta_4)}{((X_2-\\xi_4)^2+ (Y_2 - \\eta_4)^2)^\\frac{3}{2}} ) \\\\\n",
    "      \\end{bmatrix}$\n"
   ]
  },
  {
   "cell_type": "markdown",
   "metadata": {},
   "source": [
    "#### 2. Write the matrix $D$ for the flat solution\n",
    "\n",
    "This should be the same as the previous:\n",
    "\n",
    "\n",
    " $$D = \n",
    "\\begin{bmatrix}\n",
    "       \\frac{-1}{\\Delta x} & \\frac{1}{\\Delta x} & 0 & 0\\\\\n",
    "       0& \\frac{-1}{\\Delta y} & 0 & \\frac{1}{\\Delta y} \\\\\n",
    "       0 & 0 & \\frac{-1}{\\Delta x} & \\frac{1}{\\Delta x} \\\\\n",
    "       \\frac{-1}{\\Delta y} & 0 & \\frac{1}{\\Delta y} & 0 \\\\\n",
    "       \\frac{-1}{\\sqrt{\\Delta X^2 + \\Delta Y^2}} & 0 & 0 & \\frac{1}{\\sqrt{\\Delta X^2 + \\Delta Y^2}} \\\\\n",
    "       0 & \\frac{-1}{\\sqrt{\\Delta X^2 + \\Delta Y^2}} & \\frac{1}{\\sqrt{\\Delta X^2 + \\Delta Y^2}} & 0 \n",
    "      \\end{bmatrix}\n",
    "      $$\n",
    "      \n"
   ]
  },
  {
   "cell_type": "markdown",
   "metadata": {},
   "source": [
    "#### 3. Write the weighted damped least squares expression for the flat solution\n",
    "\n",
    "$$ m^{est}=[G^TW_eG + \\varepsilon^2W_m]^{-1}[G^{T}W_ed +\\varepsilon^2W_m\\langle m \\rangle]$$\n",
    "\n",
    "Where $$W_m = D^TD = \n",
    "\\begin{bmatrix}\n",
    "       \\frac{-1}{\\Delta x} & 0 & 0 & \\frac{-1}{\\Delta y}  & \\frac{-1}{\\sqrt{\\Delta X^2 + \\Delta Y^2}} & 0 \\\\\n",
    "       \\frac{1}{\\Delta x} & \\frac{-1}{\\Delta y} & 0 & 0 & 0 & \\frac{-1}{\\sqrt{\\Delta X^2 + \\Delta Y^2}}\\\\\n",
    "       0 & 0 & \\frac{-1}{\\Delta x} & \\frac{1}{\\Delta y} & 0 & \\frac{1}{\\sqrt{\\Delta X^2 + \\Delta Y^2}}  \\\\\n",
    "       0  & \\frac{1}{\\Delta y}& \\frac{1}{\\Delta x} & 0 & \\frac{1}{\\sqrt{\\Delta X^2 + \\Delta Y^2}} & 0 \n",
    "      \\end{bmatrix}\n",
    "\\begin{bmatrix}\n",
    "       \\frac{-1}{\\Delta x} & \\frac{1}{\\Delta x} & 0 & 0\\\\\n",
    "       0 & \\frac{-1}{\\Delta y} & 0 & \\frac{1}{\\Delta y} \\\\\n",
    "       0 & 0 & \\frac{-1}{\\Delta x} & \\frac{1}{\\Delta x} \\\\\n",
    "       \\frac{-1}{\\Delta y} & 0 & \\frac{1}{\\Delta y} & 0 \\\\\n",
    "       \\frac{-1}{\\sqrt{\\Delta X^2 + \\Delta Y^2}} & 0 & 0 & \\frac{1}{\\sqrt{\\Delta X^2 + \\Delta Y^2}} \\\\\n",
    "       0 & \\frac{-1}{\\sqrt{\\Delta X^2 + \\Delta Y^2}} & \\frac{1}{\\sqrt{\\Delta X^2 + \\Delta Y^2}} & 0 \n",
    "      \\end{bmatrix}\n",
    "       $$\n",
    "The error is probably the same for both gravimeter so that is probably $W_e = I$\n",
    "\n",
    "and $$G^T= \\begin{bmatrix}\n",
    "     \\frac{G\\rho_1\\Delta X_1 \\Delta Y_1 (Y_1 - \\eta_1)}{((X_1-\\xi_1)^2+ (Y_1 - \\eta_1)^2)^\\frac{3}{2}} & \\frac{G\\rho_2\\Delta X_2 \\Delta Y_2 (Y_2 - \\eta_1)}{((X_2-\\xi_1)^2+ (Y_2 - \\eta_1)^2)^\\frac{3}{2}} \\\\ \n",
    "     \\frac{G\\rho_1\\Delta X_1 \\Delta Y_1 (Y_1 - \\eta_2)}{((X_1-\\xi_2)^2+ (Y_1 - \\eta_2)^2)^\\frac{3}{2}} &\\frac{G\\rho_1\\Delta X_2 \\Delta Y_2 (Y_2 - \\eta_2)}{((X_2-\\xi_2)^2+ (Y_2 - \\eta_2)^2)^\\frac{3}{2}} \\\\ \n",
    "     \\frac{G\\rho_1\\Delta X_1 \\Delta Y_1 (Y_1 - \\eta_3)}{((X_1-\\xi_3)^2+ (Y_1 - \\eta_3)^2)^\\frac{3}{2}}  & \\frac{G\\rho_2\\Delta X_3 \\Delta Y_3 (Y_2 - \\eta_3)}{((X_2-\\xi_3)^2+ (Y_2 - \\eta_3)^2)^\\frac{3}{2}} \\\\\n",
    "     \\frac{G\\rho_1\\Delta X_1 \\Delta Y_1 (Y_1 - \\eta_4)}{((X_1-\\xi_4)^2+ (Y_1 - \\eta_4)^2)^\\frac{3}{2}} ) &\\frac{G\\rho_2\\Delta X_4 \\Delta Y_4 (Y_2 - \\eta_4)}{((X_2-\\xi_4)^2+ (Y_2 - \\eta_4)^2)^\\frac{3}{2}} \n",
    "     \\end{bmatrix}\n",
    "     $$\n",
    "And $\\varepsilon$ is a factor "
   ]
  },
  {
   "cell_type": "markdown",
   "metadata": {},
   "source": [
    "#### Optional: Use the matlab codes from the book or use your own to solve the problem. How does the solution change when changing $\\varepsilon$\n",
    "\n",
    "I am begining my own python package for solving inverse problems. \n",
    "It can be found here https://github.com/nvoss12838/pjInvert.git\n",
    "\n",
    "You can install it by :\n",
    "\n",
    "```\n",
    "git clone https://github.com/nvoss12838/pjInvert.git\n",
    "cd pjInvert\n",
    "python setup.py install\n",
    "```\n",
    "Baically, we will setup the various matrix classes for the inverse problem then see the solution\n"
   ]
  },
  {
   "cell_type": "code",
   "execution_count": 3,
   "metadata": {
    "collapsed": false
   },
   "outputs": [],
   "source": [
    "import pjInvert \n",
    "import numpy as np\n",
    "from IPython.display import display\n",
    "import pandas as pd "
   ]
  },
  {
   "cell_type": "markdown",
   "metadata": {
    "collapsed": true
   },
   "source": [
    "First lets create the greens function matrix we will start with writing the function for gravity "
   ]
  },
  {
   "cell_type": "code",
   "execution_count": 4,
   "metadata": {
    "collapsed": false
   },
   "outputs": [],
   "source": [
    "def grav(density,delX,delY,X,Y,xi,eta):\n",
    "    G = 1 #change this because computer doesnt have the precision multiply by this constant later \n",
    "    g = (G*density*delX*delY*(Y-eta))/(((X-xi)**2 + (Y-eta)**2)**(3.0/2))\n",
    "    return g \n",
    "    "
   ]
  },
  {
   "cell_type": "markdown",
   "metadata": {},
   "source": [
    "It will be easiest if we use a unit density of $1 \\frac{kg}{m^3}$\n",
    "\n",
    "we also know $\\Delta X = \\Delta Y = 5 m $ "
   ]
  },
  {
   "cell_type": "code",
   "execution_count": 5,
   "metadata": {
    "collapsed": true
   },
   "outputs": [],
   "source": [
    "density = 1 #kg/m^3\n",
    "deltaX = 5 #m \n",
    "deltaY = 5 #m "
   ]
  },
  {
   "cell_type": "markdown",
   "metadata": {},
   "source": [
    "We know the postion of our instruments:\n",
    "$X_1 = -1000$\n",
    "$Y_1 = 1000$\n",
    "$X_2 = 700$\n",
    "$Y_2 = 1000$"
   ]
  },
  {
   "cell_type": "code",
   "execution_count": 6,
   "metadata": {
    "collapsed": true
   },
   "outputs": [],
   "source": [
    "X1 = -1000\n",
    "Y1 = 1000\n",
    "X2 = 700\n",
    "Y2 = 1000"
   ]
  },
  {
   "cell_type": "markdown",
   "metadata": {},
   "source": [
    "We do not know the location of the patches but lets assume the center of our grid is at (0,0) so:'\n",
    "$$\\xi_1,\\eta_1 = -2.5,2.5$$\n",
    "$$\\xi_2,\\eta_2 = 2.5,2.5$$\n",
    "$$\\xi_3,\\eta_3 = -2.5,-2.5$$\n",
    "$$\\xi_4,\\eta_4 = 2.5,-2.5$$\n"
   ]
  },
  {
   "cell_type": "code",
   "execution_count": 7,
   "metadata": {
    "collapsed": false
   },
   "outputs": [],
   "source": [
    "patches = [[-2.5,2.5],[2.5,2.5],[-2.5,-2.5],[2.5,-2.5]]"
   ]
  },
  {
   "cell_type": "markdown",
   "metadata": {},
   "source": [
    "so we can now create the greens function matrix using pandas "
   ]
  },
  {
   "cell_type": "code",
   "execution_count": 8,
   "metadata": {
    "collapsed": false
   },
   "outputs": [
    {
     "data": {
      "text/html": [
       "<div>\n",
       "<table border=\"1\" class=\"dataframe\">\n",
       "  <thead>\n",
       "    <tr style=\"text-align: right;\">\n",
       "      <th></th>\n",
       "      <th>rho1</th>\n",
       "      <th>rho2</th>\n",
       "      <th>rho3</th>\n",
       "      <th>rho4</th>\n",
       "    </tr>\n",
       "  </thead>\n",
       "  <tbody>\n",
       "    <tr>\n",
       "      <th>g1</th>\n",
       "      <td>0.000009</td>\n",
       "      <td>0.000009</td>\n",
       "      <td>0.000009</td>\n",
       "      <td>0.000009</td>\n",
       "    </tr>\n",
       "    <tr>\n",
       "      <th>g2</th>\n",
       "      <td>0.000014</td>\n",
       "      <td>0.000014</td>\n",
       "      <td>0.000014</td>\n",
       "      <td>0.000014</td>\n",
       "    </tr>\n",
       "  </tbody>\n",
       "</table>\n",
       "</div>"
      ],
      "text/plain": [
       "        rho1      rho2      rho3      rho4\n",
       "g1  0.000009  0.000009  0.000009  0.000009\n",
       "g2  0.000014  0.000014  0.000014  0.000014"
      ]
     },
     "metadata": {},
     "output_type": "display_data"
    }
   ],
   "source": [
    "#columns are the paramaters, rows are the observation names\n",
    "ind = ['g1','g2']\n",
    "params = ['rho1','rho2','rho3','rho4']\n",
    "gravimeters = [[X1,Y1],[X2,Y2]]\n",
    "G = np.zeros((len(ind),len(params))) #make shape of G \n",
    "for i,location in enumerate(gravimeters):\n",
    "    for j,position in enumerate(patches):\n",
    "        G[i,j] = grav(1,5,5,location[0],location[1],position[0],position[1]) #insert values of G \n",
    "G = pd.DataFrame(G,index = ind, columns = params) #G to paramaters\n",
    "display(G) #display inline\n",
    "G = pjInvert.greenfnc('gravity',G) #create greensfunction obeject"
   ]
  },
  {
   "cell_type": "markdown",
   "metadata": {},
   "source": [
    "Next lets create our data vector, lets assume some random values"
   ]
  },
  {
   "cell_type": "code",
   "execution_count": 9,
   "metadata": {
    "collapsed": false
   },
   "outputs": [
    {
     "name": "stdout",
     "output_type": "stream",
     "text": [
      "g1    10.385438\n",
      "g2    10.587973\n",
      "dtype: float64\n"
     ]
    }
   ],
   "source": [
    "g1 = np.random.rand()+9.8 #generate random realization of gravitational pull 1\n",
    "g2 = np.random.rand()+9.8 #generate random realization of gravitation pull as gravimeter 2 \n",
    "data = pd.Series([g1,g2],index = ind)\n",
    "print data\n",
    "weight = pd.Series([1,1],index = ind) #create weight array for observation in this case uniform\n",
    "dVec = pjInvert.data(data,weight)"
   ]
  },
  {
   "cell_type": "markdown",
   "metadata": {},
   "source": [
    "Next we need a D matrix for a flat solution in order to create a Wm"
   ]
  },
  {
   "cell_type": "code",
   "execution_count": 10,
   "metadata": {
    "collapsed": false
   },
   "outputs": [],
   "source": [
    "D = np.zeros((6,4))\n",
    "D[0,0] = (-1/5.0)\n",
    "D[0,1] = (1/5.0)\n",
    "D[1,1] = (-1/5.0)\n",
    "D[1,3] = (1/5.0)\n",
    "D[2,2] = (-1/5.0)\n",
    "D[2,3] = (1/5.0)\n",
    "D[3,0] = (1/5.0)\n",
    "D[3,3] = (-1/5.0)\n",
    "D[4,0] = (-1/np.sqrt(5.0**2+5.0**2))\n",
    "D[4,3] = (1/np.sqrt(5.0**2+5.0**2))\n",
    "D[5,1] = (-1/np.sqrt(5.0**2+5.0**2))\n",
    "D[5,2] = (1/np.sqrt(5.0**2+5.0**2))\n",
    "D = pjInvert.flat(D)"
   ]
  },
  {
   "cell_type": "code",
   "execution_count": 11,
   "metadata": {
    "collapsed": false
   },
   "outputs": [],
   "source": [
    "Wm = D.to_Wm()"
   ]
  },
  {
   "cell_type": "markdown",
   "metadata": {
    "collapsed": true
   },
   "source": [
    "We will set $\\epsilon = 1$"
   ]
  },
  {
   "cell_type": "code",
   "execution_count": 12,
   "metadata": {
    "collapsed": true
   },
   "outputs": [],
   "source": [
    "eps = pjInvert.epsilon(1)"
   ]
  },
  {
   "cell_type": "markdown",
   "metadata": {},
   "source": [
    "finally we need an initial guess, we will create a model object with random initial guesses:"
   ]
  },
  {
   "cell_type": "code",
   "execution_count": 13,
   "metadata": {
    "collapsed": false
   },
   "outputs": [
    {
     "data": {
      "text/plain": [
       "rho1    2135.978693\n",
       "rho2    2881.714602\n",
       "rho3    2575.770663\n",
       "rho4    2651.105738\n",
       "dtype: float64"
      ]
     },
     "execution_count": 13,
     "metadata": {},
     "output_type": "execute_result"
    }
   ],
   "source": [
    "m_init = pd.Series(np.random.rand(4)*3000,index = params)\n",
    "m_init = pjInvert.paramaters(m_init)\n",
    "m_init.modelS"
   ]
  },
  {
   "cell_type": "markdown",
   "metadata": {},
   "source": [
    "We invert:"
   ]
  },
  {
   "cell_type": "code",
   "execution_count": 14,
   "metadata": {
    "collapsed": false
   },
   "outputs": [],
   "source": [
    "#weightedLeastSquares(greensfnc,Wm,We,epsilon,m_init,data)\n",
    "m_est = pjInvert.invert_methods.weightedLeastSquares(G,Wm,dVec.weight2matirx(),eps,m_init,dVec)"
   ]
  },
  {
   "cell_type": "code",
   "execution_count": 15,
   "metadata": {
    "collapsed": false
   },
   "outputs": [
    {
     "data": {
      "text/plain": [
       "rho1    3.322466e+15\n",
       "rho2    3.333639e+15\n",
       "rho3    3.329055e+15\n",
       "rho4    3.330184e+15\n",
       "dtype: float64"
      ]
     },
     "execution_count": 15,
     "metadata": {},
     "output_type": "execute_result"
    }
   ],
   "source": [
    "m_est/6.674E-11 #divide by gravitational constant "
   ]
  },
  {
   "cell_type": "code",
   "execution_count": 16,
   "metadata": {
    "collapsed": true
   },
   "outputs": [],
   "source": [
    "G_modeled = np.zeros((2,4))\n",
    "for i,location in enumerate(gravimeters):\n",
    "    for j,position in enumerate(patches):\n",
    "        G_modeled[i,j] = grav(m_est[j],5,5,location[0],location[1],position[0],position[1])"
   ]
  },
  {
   "cell_type": "code",
   "execution_count": 17,
   "metadata": {
    "collapsed": false
   },
   "outputs": [
    {
     "data": {
      "text/plain": [
       "array([  7.85477973,  12.21527075])"
      ]
     },
     "execution_count": 17,
     "metadata": {},
     "output_type": "execute_result"
    }
   ],
   "source": [
    "np.sum(G_modeled,axis = 1)  #modeled"
   ]
  },
  {
   "cell_type": "code",
   "execution_count": 18,
   "metadata": {
    "collapsed": false
   },
   "outputs": [
    {
     "data": {
      "text/plain": [
       "array([ 10.38543758,  10.58797256])"
      ]
     },
     "execution_count": 18,
     "metadata": {},
     "output_type": "execute_result"
    }
   ],
   "source": [
    "data.values #measured"
   ]
  },
  {
   "cell_type": "markdown",
   "metadata": {},
   "source": [
    "So we did get a solution that is gives modeled data close to measured data. It is also extremetly flat, probably becuase we consider the diagonal derivitives. We can change the flatteness of the soltuion by playing with $\\epsilon$\n",
    "\n",
    "For example a less flat soultuon with $\\epsilon$ = 0.1\n"
   ]
  },
  {
   "cell_type": "code",
   "execution_count": 19,
   "metadata": {
    "collapsed": false
   },
   "outputs": [
    {
     "name": "stdout",
     "output_type": "stream",
     "text": [
      "modeled : [ 10.14429971  10.74303233]\n",
      "paramaters : \n",
      "  rho1    3.928235e+16\n",
      "rho2   -2.358998e+17\n",
      "rho3    3.096894e+17\n",
      "rho4   -9.792360e+16\n",
      "dtype: float64\n"
     ]
    }
   ],
   "source": [
    "eps = pjInvert.epsilon(0.0000001)\n",
    "m_est = pjInvert.invert_methods.weightedLeastSquares(G,Wm,dVec.weight2matirx(),eps,m_init,dVec)\n",
    "G_modeled = np.zeros((2,4))\n",
    "for i,location in enumerate(gravimeters):\n",
    "    for j,position in enumerate(patches):\n",
    "        G_modeled[i,j] = grav(m_est[j],5,5,location[0],location[1],position[0],position[1])\n",
    "print 'modeled :',np.sum(G_modeled,axis = 1)  #modeled    \n",
    "print 'paramaters : \\n ',m_est/6.674E-11 "
   ]
  },
  {
   "cell_type": "markdown",
   "metadata": {},
   "source": [
    "So can see the residual goes down, and our paramaters are much less flat\n",
    "\n",
    "Similarly we can enfore flattness more with $\\epsilon = 1000$"
   ]
  },
  {
   "cell_type": "code",
   "execution_count": 20,
   "metadata": {
    "collapsed": false
   },
   "outputs": [
    {
     "name": "stdout",
     "output_type": "stream",
     "text": [
      "modeled : [  7.17967903  11.16538727]\n",
      "paramaters : \n",
      "  rho1    3.034102e+15\n",
      "rho2    3.045610e+15\n",
      "rho3    3.045610e+15\n",
      "rho4    3.045610e+15\n",
      "dtype: float64\n"
     ]
    }
   ],
   "source": [
    "eps = pjInvert.epsilon(10000)\n",
    "m_est = pjInvert.invert_methods.weightedLeastSquares(G,Wm,dVec.weight2matirx(),eps,m_init,dVec)\n",
    "G_modeled = np.zeros((2,4))\n",
    "for i,location in enumerate(gravimeters):\n",
    "    for j,position in enumerate(patches):\n",
    "        G_modeled[i,j] = grav(m_est[j],5,5,location[0],location[1],position[0],position[1])\n",
    "print 'modeled :',np.sum(G_modeled,axis = 1)  #modeled    \n",
    "print 'paramaters : \\n ',m_est/6.674E-11 "
   ]
  },
  {
   "cell_type": "markdown",
   "metadata": {},
   "source": [
    "Now are paramaters are all the same, and our residual is high "
   ]
  }
 ],
 "metadata": {
  "kernelspec": {
   "display_name": "Python 2",
   "language": "python",
   "name": "python2"
  },
  "language_info": {
   "codemirror_mode": {
    "name": "ipython",
    "version": 2
   },
   "file_extension": ".py",
   "mimetype": "text/x-python",
   "name": "python",
   "nbconvert_exporter": "python",
   "pygments_lexer": "ipython2",
   "version": "2.7.10"
  }
 },
 "nbformat": 4,
 "nbformat_minor": 0
}
